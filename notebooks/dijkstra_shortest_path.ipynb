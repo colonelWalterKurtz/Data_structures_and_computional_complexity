{
 "cells": [
  {
   "cell_type": "markdown",
   "id": "bceeffc1-66ac-466b-8a92-07477c4a9cae",
   "metadata": {},
   "source": [
    "# Time complexity of Dijkstra shortest path algorithm\n",
    "\n",
    "## measurement tab"
   ]
  },
  {
   "cell_type": "code",
   "execution_count": 11,
   "id": "249529cc-365c-4fc5-a5f1-a2503b91e51a",
   "metadata": {},
   "outputs": [
    {
     "data": {
      "text/html": [
       "<div>\n",
       "<style scoped>\n",
       "    .dataframe tbody tr th:only-of-type {\n",
       "        vertical-align: middle;\n",
       "    }\n",
       "\n",
       "    .dataframe tbody tr th {\n",
       "        vertical-align: top;\n",
       "    }\n",
       "\n",
       "    .dataframe thead th {\n",
       "        text-align: right;\n",
       "    }\n",
       "</style>\n",
       "<table border=\"1\" class=\"dataframe\">\n",
       "  <thead>\n",
       "    <tr style=\"text-align: right;\">\n",
       "      <th>Instance count</th>\n",
       "      <th>10</th>\n",
       "      <th>20</th>\n",
       "      <th>50</th>\n",
       "      <th>100</th>\n",
       "      <th>200</th>\n",
       "      <th>300</th>\n",
       "      <th>400</th>\n",
       "      <th>500</th>\n",
       "      <th>600</th>\n",
       "      <th>700</th>\n",
       "      <th>800</th>\n",
       "      <th>900</th>\n",
       "      <th>1000</th>\n",
       "    </tr>\n",
       "  </thead>\n",
       "  <tbody>\n",
       "    <tr>\n",
       "      <th>time execution [micorseconds]</th>\n",
       "      <td>0.8</td>\n",
       "      <td>4.5</td>\n",
       "      <td>15.4</td>\n",
       "      <td>52.9</td>\n",
       "      <td>175.8</td>\n",
       "      <td>365.5</td>\n",
       "      <td>620.4</td>\n",
       "      <td>931.8</td>\n",
       "      <td>1362.6</td>\n",
       "      <td>1745.1</td>\n",
       "      <td>2265.5</td>\n",
       "      <td>2908.8</td>\n",
       "      <td>3591.0</td>\n",
       "    </tr>\n",
       "  </tbody>\n",
       "</table>\n",
       "</div>"
      ],
      "text/plain": [
       "Instance count                 10    20    50    100    200    300    400   \\\n",
       "time execution [micorseconds]   0.8   4.5  15.4  52.9  175.8  365.5  620.4   \n",
       "\n",
       "Instance count                  500     600     700     800     900     1000  \n",
       "time execution [micorseconds]  931.8  1362.6  1745.1  2265.5  2908.8  3591.0  "
      ]
     },
     "execution_count": 11,
     "metadata": {},
     "output_type": "execute_result"
    }
   ],
   "source": [
    "import pandas as pd\n",
    "import matplotlib.pyplot as plt\n",
    "import numpy as np\n",
    "\n",
    "PATH = \"./measurements/dijkstra_algorithm/dijkstra_algorithm.csv\"\n",
    "\n",
    "# read the data\n",
    "file = pd.read_csv(PATH)\n",
    "\n",
    "## prepare the data\n",
    "# calculate mean from every row\n",
    "means = file.iloc[:, 1:11].mean(axis=1)\n",
    "\n",
    "# take intance count\n",
    "instances = file[\"Liczebnosc instancji\"].values\n",
    "\n",
    "# create data frame\n",
    "df = pd.DataFrame({\"Instance count\":  instances, \"time execution [micorseconds]\": means})\n",
    "df = df.set_index(\"Instance count\")\n",
    "df.transpose()\n"
   ]
  },
  {
   "cell_type": "markdown",
   "id": "f90bb51f-c472-49b4-91b9-ffa719fcfef7",
   "metadata": {},
   "source": [
    "## chart"
   ]
  },
  {
   "cell_type": "code",
   "execution_count": 8,
   "id": "fe0c2d8b-29f4-40cc-a25b-c357a8ea3574",
   "metadata": {},
   "outputs": [
    {
     "data": {
      "text/plain": [
       "<AxesSubplot:xlabel='Instance count'>"
      ]
     },
     "execution_count": 8,
     "metadata": {},
     "output_type": "execute_result"
    },
    {
     "data": {
      "image/png": "[encoded data removed]",
      "text/plain": [
       "<Figure size 432x288 with 1 Axes>"
      ]
     },
     "metadata": {
      "needs_background": "light"
     },
     "output_type": "display_data"
    }
   ],
   "source": [
    "# generate graph\n",
    "df.plot()"
   ]
  }
 ],
 "metadata": {
  "kernelspec": {
   "display_name": "Python 3 (ipykernel)",
   "language": "python",
   "name": "python3"
  },
  "language_info": {
   "codemirror_mode": {
    "name": "ipython",
    "version": 3
   },
   "file_extension": ".py",
   "mimetype": "text/x-python",
   "name": "python",
   "nbconvert_exporter": "python",
   "pygments_lexer": "ipython3",
   "version": "3.10.4"
  }
 },
 "nbformat": 4,
 "nbformat_minor": 5
}
