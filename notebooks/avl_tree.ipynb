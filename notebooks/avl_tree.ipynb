{
 "cells": [
  {
   "cell_type": "markdown",
   "id": "89e43b34-c4c9-43ee-9f60-841ebf899222",
   "metadata": {},
   "source": [
    "# Time complexity of AVL tree algorithm\n",
    "\n",
    "## Charts"
   ]
  },
  {
   "cell_type": "code",
   "execution_count": 23,
   "id": "d0d0119a-7629-475e-a92a-bbb679543741",
   "metadata": {},
   "outputs": [
    {
     "data": {
      "text/html": [
       "<div>\n",
       "<style scoped>\n",
       "    .dataframe tbody tr th:only-of-type {\n",
       "        vertical-align: middle;\n",
       "    }\n",
       "\n",
       "    .dataframe tbody tr th {\n",
       "        vertical-align: top;\n",
       "    }\n",
       "\n",
       "    .dataframe thead th {\n",
       "        text-align: right;\n",
       "    }\n",
       "</style>\n",
       "<table border=\"1\" class=\"dataframe\">\n",
       "  <thead>\n",
       "    <tr style=\"text-align: right;\">\n",
       "      <th>Instance count</th>\n",
       "      <th>10</th>\n",
       "      <th>20</th>\n",
       "      <th>50</th>\n",
       "      <th>100</th>\n",
       "      <th>500</th>\n",
       "      <th>1000</th>\n",
       "      <th>2000</th>\n",
       "      <th>5000</th>\n",
       "      <th>10000</th>\n",
       "      <th>50000</th>\n",
       "      <th>100000</th>\n",
       "      <th>200000</th>\n",
       "      <th>400000</th>\n",
       "    </tr>\n",
       "  </thead>\n",
       "  <tbody>\n",
       "    <tr>\n",
       "      <th>time execution [micorseconds]</th>\n",
       "      <td>4.2</td>\n",
       "      <td>6.0</td>\n",
       "      <td>16.7</td>\n",
       "      <td>41.2</td>\n",
       "      <td>257.1</td>\n",
       "      <td>568.1</td>\n",
       "      <td>1234.4</td>\n",
       "      <td>2381.2</td>\n",
       "      <td>5040.2</td>\n",
       "      <td>34037.2</td>\n",
       "      <td>88619.8</td>\n",
       "      <td>260262.3</td>\n",
       "      <td>547961.6</td>\n",
       "    </tr>\n",
       "  </tbody>\n",
       "</table>\n",
       "</div>"
      ],
      "text/plain": [
       "Instance count                 10      20      50      100     500     1000    \\\n",
       "time execution [micorseconds]     4.2     6.0    16.7    41.2   257.1   568.1   \n",
       "\n",
       "Instance count                 2000    5000    10000    50000    100000  \\\n",
       "time execution [micorseconds]  1234.4  2381.2  5040.2  34037.2  88619.8   \n",
       "\n",
       "Instance count                   200000    400000  \n",
       "time execution [micorseconds]  260262.3  547961.6  "
      ]
     },
     "execution_count": 23,
     "metadata": {},
     "output_type": "execute_result"
    }
   ],
   "source": [
    "import pandas as pd\n",
    "import matplotlib.pyplot as plt\n",
    "import numpy as np\n",
    "\n",
    "PATH = \"./measurements/avl_tree/avl_tree_algorithm.csv\"\n",
    "\n",
    "# read the data\n",
    "file = pd.read_csv(PATH)\n",
    "\n",
    "## prepare the data\n",
    "# calculate mean from every row\n",
    "means = file.iloc[:, 1:11].mean(axis=1)\n",
    "\n",
    "# take intance count of every AVL tree build \n",
    "instances = file[\"licznosc instancji\"].values\n",
    "\n",
    "# create data frame\n",
    "df = pd.DataFrame({\"Instance count\":  instances, \"time execution [micorseconds]\": means})\n",
    "df = df.set_index(\"Instance count\")\n",
    "df.transpose()\n"
   ]
  },
  {
   "cell_type": "code",
   "execution_count": 62,
   "id": "2ba65bb9-0a50-4a0c-a9fc-e7adde865e68",
   "metadata": {},
   "outputs": [
    {
     "name": "stdout",
     "output_type": "stream",
     "text": [
      "[3.32192809e+01 8.64385619e+01 2.82192809e+02 6.64385619e+02\n",
      " 4.48289214e+03 9.96578428e+03 2.19315686e+04 6.14385619e+04\n",
      " 1.32877124e+05 7.80482024e+05 1.66096405e+06 3.52192809e+06\n",
      " 7.44385619e+06]\n"
     ]
    },
    {
     "data": {
      "text/plain": [
       "<AxesSubplot:xlabel='Instance count'>"
      ]
     },
     "execution_count": 62,
     "metadata": {},
     "output_type": "execute_result"
    },
    {
     "data": {
      "image/png": "[encoded data removed]",
      "text/plain": [
       "<Figure size 432x288 with 1 Axes>"
      ]
     },
     "metadata": {
      "needs_background": "light"
     },
     "output_type": "display_data"
    },
    {
     "data": {
      "image/png": "[encoded data removed]",
      "text/plain": [
       "<Figure size 432x288 with 1 Axes>"
      ]
     },
     "metadata": {
      "needs_background": "light"
     },
     "output_type": "display_data"
    }
   ],
   "source": [
    "# create nlogn values\n",
    "nlogn = instances * np.log2(instances)\n",
    "print(nlogn)\n",
    "plt.plot(instances, nlogn, label=\"O(nlogn)\")\n",
    "plt.legend()\n",
    "\n",
    "# generate graph\n",
    "df.plot(style = '--o', c='g')"
   ]
  }
 ],
 "metadata": {
  "kernelspec": {
   "display_name": "Python 3 (ipykernel)",
   "language": "python",
   "name": "python3"
  },
  "language_info": {
   "codemirror_mode": {
    "name": "ipython",
    "version": 3
   },
   "file_extension": ".py",
   "mimetype": "text/x-python",
   "name": "python",
   "nbconvert_exporter": "python",
   "pygments_lexer": "ipython3",
   "version": "3.10.4"
  }
 },
 "nbformat": 4,
 "nbformat_minor": 5
}
