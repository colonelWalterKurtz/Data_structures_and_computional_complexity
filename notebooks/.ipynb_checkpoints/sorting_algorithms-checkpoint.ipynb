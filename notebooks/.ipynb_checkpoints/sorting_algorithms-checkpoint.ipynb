{
 "cells": [
  {
   "cell_type": "markdown",
   "id": "22f6677d-aa8f-4d63-b44e-685154a34ed2",
   "metadata": {},
   "source": [
    "# Sorting algorithms"
   ]
  },
  {
   "cell_type": "code",
   "execution_count": 1,
   "id": "5a24ae27-37cc-4249-b633-3cc41419f74c",
   "metadata": {},
   "outputs": [],
   "source": [
    "## LOADING DATA, CALULATION MESUREMENT MEANS\n",
    "\n",
    "import matplotlib.pyplot as plt\n",
    "import numpy as np\n",
    "import pandas as pd\n",
    "\n",
    "PATH = \"./measurements/sorting_algorithms/\"\n",
    "\n",
    "ALGO_NAMES = [\"bubble\", \"insertion\", \"quick\", \"counting\", \"heap\"]\n",
    "\n",
    "#  reading and preparing data\n",
    "sorting_algo_data = {}\n",
    "for algo in ALGO_NAMES:\n",
    "    name = algo+\" sort\"\n",
    "    file = pd.read_csv(PATH+algo+\"_sort.csv\")\n",
    "    instances = file[\"liczba instancji\"].values\n",
    "    means = file.iloc[:, 1:11].mean(axis=1)\n",
    "    df = pd.DataFrame({\"Instance count\": instances, name+\" time execution [microseconds]\": means})\n",
    "    sorting_algo_data[name] = df\n",
    "    sorting_algo_data[name] = sorting_algo_data[name].set_index(\"Instance count\")\n"
   ]
  },
  {
   "cell_type": "markdown",
   "id": "ee5bc3af-9ae1-4f1e-a715-cbf0c55ab5eb",
   "metadata": {},
   "source": [
    "### bubble sort"
   ]
  },
  {
   "cell_type": "code",
   "execution_count": 2,
   "id": "f6eedebd-540c-406c-a806-88ef1845b7a2",
   "metadata": {},
   "outputs": [
    {
     "data": {
      "text/html": [
       "<div>\n",
       "<style scoped>\n",
       "    .dataframe tbody tr th:only-of-type {\n",
       "        vertical-align: middle;\n",
       "    }\n",
       "\n",
       "    .dataframe tbody tr th {\n",
       "        vertical-align: top;\n",
       "    }\n",
       "\n",
       "    .dataframe thead th {\n",
       "        text-align: right;\n",
       "    }\n",
       "</style>\n",
       "<table border=\"1\" class=\"dataframe\">\n",
       "  <thead>\n",
       "    <tr style=\"text-align: right;\">\n",
       "      <th>Instance count</th>\n",
       "      <th>10</th>\n",
       "      <th>50</th>\n",
       "      <th>100</th>\n",
       "      <th>500</th>\n",
       "      <th>1000</th>\n",
       "      <th>2000</th>\n",
       "      <th>5000</th>\n",
       "      <th>10000</th>\n",
       "      <th>20000</th>\n",
       "      <th>50000</th>\n",
       "      <th>100000</th>\n",
       "      <th>200000</th>\n",
       "      <th>300000</th>\n",
       "      <th>500000</th>\n",
       "      <th>700000</th>\n",
       "      <th>900000</th>\n",
       "      <th>1000000</th>\n",
       "    </tr>\n",
       "  </thead>\n",
       "  <tbody>\n",
       "    <tr>\n",
       "      <th>bubble sort time execution [microseconds]</th>\n",
       "      <td>0.0</td>\n",
       "      <td>5.0</td>\n",
       "      <td>20.0</td>\n",
       "      <td>455.7</td>\n",
       "      <td>1715.3</td>\n",
       "      <td>6488.9</td>\n",
       "      <td>39322.4</td>\n",
       "      <td>165882.1</td>\n",
       "      <td>819638.9</td>\n",
       "      <td>5881664.0</td>\n",
       "      <td>24323877.8</td>\n",
       "      <td>98908730.4</td>\n",
       "      <td>224152869.1</td>\n",
       "      <td>618152135.0</td>\n",
       "      <td>1.233375e+09</td>\n",
       "      <td>1.986145e+09</td>\n",
       "      <td>2.503074e+09</td>\n",
       "    </tr>\n",
       "  </tbody>\n",
       "</table>\n",
       "</div>"
      ],
      "text/plain": [
       "Instance count                             10       50       100      500      \\\n",
       "bubble sort time execution [microseconds]      0.0      5.0     20.0    455.7   \n",
       "\n",
       "Instance count                             1000     2000     5000     \\\n",
       "bubble sort time execution [microseconds]   1715.3   6488.9  39322.4   \n",
       "\n",
       "Instance count                              10000     20000      50000    \\\n",
       "bubble sort time execution [microseconds]  165882.1  819638.9  5881664.0   \n",
       "\n",
       "Instance count                                100000      200000   \\\n",
       "bubble sort time execution [microseconds]  24323877.8  98908730.4   \n",
       "\n",
       "Instance count                                 300000       500000   \\\n",
       "bubble sort time execution [microseconds]  224152869.1  618152135.0   \n",
       "\n",
       "Instance count                                  700000        900000   \\\n",
       "bubble sort time execution [microseconds]  1.233375e+09  1.986145e+09   \n",
       "\n",
       "Instance count                                  1000000  \n",
       "bubble sort time execution [microseconds]  2.503074e+09  "
      ]
     },
     "execution_count": 2,
     "metadata": {},
     "output_type": "execute_result"
    }
   ],
   "source": [
    "sorting_algo_data[\"bubble sort\"].transpose()"
   ]
  },
  {
   "cell_type": "code",
   "execution_count": 3,
   "id": "846d81ec-b15f-4eca-83bd-26c6e6b73c74",
   "metadata": {},
   "outputs": [
    {
     "data": {
      "text/plain": [
       "<AxesSubplot:xlabel='Instance count'>"
      ]
     },
     "execution_count": 3,
     "metadata": {},
     "output_type": "execute_result"
    },
    {
     "data": {
      "image/png": "[encoded data removed]",
      "text/plain": [
       "<Figure size 432x288 with 1 Axes>"
      ]
     },
     "metadata": {
      "needs_background": "light"
     },
     "output_type": "display_data"
    }
   ],
   "source": [
    "sorting_algo_data[\"bubble sort\"].plot(style='--o', c='b')"
   ]
  },
  {
   "cell_type": "markdown",
   "id": "87d54a07-27c9-47d4-bbe5-dceb6564a40a",
   "metadata": {},
   "source": [
    "### insertion sort"
   ]
  },
  {
   "cell_type": "code",
   "execution_count": 4,
   "id": "94d6bebb-17fc-4ff0-8404-01703647515a",
   "metadata": {},
   "outputs": [
    {
     "data": {
      "text/html": [
       "<div>\n",
       "<style scoped>\n",
       "    .dataframe tbody tr th:only-of-type {\n",
       "        vertical-align: middle;\n",
       "    }\n",
       "\n",
       "    .dataframe tbody tr th {\n",
       "        vertical-align: top;\n",
       "    }\n",
       "\n",
       "    .dataframe thead th {\n",
       "        text-align: right;\n",
       "    }\n",
       "</style>\n",
       "<table border=\"1\" class=\"dataframe\">\n",
       "  <thead>\n",
       "    <tr style=\"text-align: right;\">\n",
       "      <th>Instance count</th>\n",
       "      <th>10</th>\n",
       "      <th>50</th>\n",
       "      <th>100</th>\n",
       "      <th>500</th>\n",
       "      <th>1000</th>\n",
       "      <th>2000</th>\n",
       "      <th>5000</th>\n",
       "      <th>10000</th>\n",
       "      <th>20000</th>\n",
       "      <th>50000</th>\n",
       "      <th>100000</th>\n",
       "      <th>200000</th>\n",
       "      <th>300000</th>\n",
       "      <th>500000</th>\n",
       "      <th>700000</th>\n",
       "      <th>900000</th>\n",
       "      <th>1000000</th>\n",
       "    </tr>\n",
       "  </thead>\n",
       "  <tbody>\n",
       "    <tr>\n",
       "      <th>insertion sort time execution [microseconds]</th>\n",
       "      <td>0.0</td>\n",
       "      <td>1.0</td>\n",
       "      <td>6.1</td>\n",
       "      <td>133.6</td>\n",
       "      <td>408.9</td>\n",
       "      <td>1503.1</td>\n",
       "      <td>9456.3</td>\n",
       "      <td>36061.1</td>\n",
       "      <td>145044.8</td>\n",
       "      <td>905825.2</td>\n",
       "      <td>3692558.1</td>\n",
       "      <td>14401321.8</td>\n",
       "      <td>32364260.8</td>\n",
       "      <td>90064620.6</td>\n",
       "      <td>175028696.6</td>\n",
       "      <td>286838371.5</td>\n",
       "      <td>353422215.5</td>\n",
       "    </tr>\n",
       "  </tbody>\n",
       "</table>\n",
       "</div>"
      ],
      "text/plain": [
       "Instance count                                10       50       100      \\\n",
       "insertion sort time execution [microseconds]      0.0      1.0      6.1   \n",
       "\n",
       "Instance count                                500      1000     2000     \\\n",
       "insertion sort time execution [microseconds]    133.6    408.9   1503.1   \n",
       "\n",
       "Instance count                                5000     10000     20000    \\\n",
       "insertion sort time execution [microseconds]   9456.3  36061.1  145044.8   \n",
       "\n",
       "Instance count                                 50000      100000      200000   \\\n",
       "insertion sort time execution [microseconds]  905825.2  3692558.1  14401321.8   \n",
       "\n",
       "Instance count                                   300000      500000   \\\n",
       "insertion sort time execution [microseconds]  32364260.8  90064620.6   \n",
       "\n",
       "Instance count                                    700000       900000   \\\n",
       "insertion sort time execution [microseconds]  175028696.6  286838371.5   \n",
       "\n",
       "Instance count                                    1000000  \n",
       "insertion sort time execution [microseconds]  353422215.5  "
      ]
     },
     "execution_count": 4,
     "metadata": {},
     "output_type": "execute_result"
    }
   ],
   "source": [
    "sorting_algo_data[\"insertion sort\"].transpose()"
   ]
  },
  {
   "cell_type": "code",
   "execution_count": 5,
   "id": "2179453b-a1e1-4edc-8fe1-a72df777f47f",
   "metadata": {},
   "outputs": [
    {
     "data": {
      "text/plain": [
       "<AxesSubplot:xlabel='Instance count'>"
      ]
     },
     "execution_count": 5,
     "metadata": {},
     "output_type": "execute_result"
    },
    {
     "data": {
      "image/png": "[encoded data removed]",
      "text/plain": [
       "<Figure size 432x288 with 1 Axes>"
      ]
     },
     "metadata": {
      "needs_background": "light"
     },
     "output_type": "display_data"
    }
   ],
   "source": [
    "sorting_algo_data[\"insertion sort\"].plot(style='--*', c='g')"
   ]
  },
  {
   "cell_type": "markdown",
   "id": "c6ea4f09-9a95-472e-8131-e6a09e320bb9",
   "metadata": {},
   "source": [
    "### quick sort"
   ]
  },
  {
   "cell_type": "code",
   "execution_count": 6,
   "id": "17487ee3-4237-4333-9f5b-a02179cb20fe",
   "metadata": {},
   "outputs": [
    {
     "data": {
      "text/html": [
       "<div>\n",
       "<style scoped>\n",
       "    .dataframe tbody tr th:only-of-type {\n",
       "        vertical-align: middle;\n",
       "    }\n",
       "\n",
       "    .dataframe tbody tr th {\n",
       "        vertical-align: top;\n",
       "    }\n",
       "\n",
       "    .dataframe thead th {\n",
       "        text-align: right;\n",
       "    }\n",
       "</style>\n",
       "<table border=\"1\" class=\"dataframe\">\n",
       "  <thead>\n",
       "    <tr style=\"text-align: right;\">\n",
       "      <th>Instance count</th>\n",
       "      <th>10</th>\n",
       "      <th>50</th>\n",
       "      <th>100</th>\n",
       "      <th>500</th>\n",
       "      <th>1000</th>\n",
       "      <th>2000</th>\n",
       "      <th>5000</th>\n",
       "      <th>10000</th>\n",
       "      <th>20000</th>\n",
       "      <th>50000</th>\n",
       "      <th>100000</th>\n",
       "      <th>200000</th>\n",
       "      <th>300000</th>\n",
       "      <th>500000</th>\n",
       "      <th>700000</th>\n",
       "      <th>900000</th>\n",
       "      <th>1000000</th>\n",
       "    </tr>\n",
       "  </thead>\n",
       "  <tbody>\n",
       "    <tr>\n",
       "      <th>quick sort time execution [microseconds]</th>\n",
       "      <td>0.0</td>\n",
       "      <td>0.7</td>\n",
       "      <td>2.6</td>\n",
       "      <td>18.0</td>\n",
       "      <td>54.9</td>\n",
       "      <td>140.3</td>\n",
       "      <td>396.9</td>\n",
       "      <td>902.1</td>\n",
       "      <td>1834.9</td>\n",
       "      <td>5148.1</td>\n",
       "      <td>9881.5</td>\n",
       "      <td>21326.8</td>\n",
       "      <td>31324.3</td>\n",
       "      <td>53164.3</td>\n",
       "      <td>76748.7</td>\n",
       "      <td>99470.6</td>\n",
       "      <td>106459.1</td>\n",
       "    </tr>\n",
       "  </tbody>\n",
       "</table>\n",
       "</div>"
      ],
      "text/plain": [
       "Instance count                            10       50       100      500      \\\n",
       "quick sort time execution [microseconds]      0.0      0.7      2.6     18.0   \n",
       "\n",
       "Instance count                            1000     2000     5000     10000    \\\n",
       "quick sort time execution [microseconds]     54.9    140.3    396.9    902.1   \n",
       "\n",
       "Instance count                            20000    50000    100000   200000   \\\n",
       "quick sort time execution [microseconds]   1834.9   5148.1   9881.5  21326.8   \n",
       "\n",
       "Instance count                            300000   500000   700000   900000   \\\n",
       "quick sort time execution [microseconds]  31324.3  53164.3  76748.7  99470.6   \n",
       "\n",
       "Instance count                             1000000  \n",
       "quick sort time execution [microseconds]  106459.1  "
      ]
     },
     "execution_count": 6,
     "metadata": {},
     "output_type": "execute_result"
    }
   ],
   "source": [
    "sorting_algo_data[\"quick sort\"].transpose()"
   ]
  },
  {
   "cell_type": "code",
   "execution_count": 7,
   "id": "16d3995f-8acc-4b03-87dd-217e49de442f",
   "metadata": {},
   "outputs": [
    {
     "data": {
      "text/plain": [
       "<AxesSubplot:xlabel='Instance count'>"
      ]
     },
     "execution_count": 7,
     "metadata": {},
     "output_type": "execute_result"
    },
    {
     "data": {
      "image/png": "[encoded data removed]",
      "text/plain": [
       "<Figure size 432x288 with 1 Axes>"
      ]
     },
     "metadata": {
      "needs_background": "light"
     },
     "output_type": "display_data"
    }
   ],
   "source": [
    "sorting_algo_data[\"quick sort\"].plot(style='x--', c='r')"
   ]
  },
  {
   "cell_type": "markdown",
   "id": "f3c96518-37ff-43d4-9bcf-5ebdde659afc",
   "metadata": {},
   "source": [
    "## comparison of bubble, insertion and quick sorts"
   ]
  },
  {
   "cell_type": "code",
   "execution_count": 9,
   "id": "93674c60-5bf5-4783-8b0a-d9f0e98c3491",
   "metadata": {},
   "outputs": [
    {
     "data": {
      "text/html": [
       "<div>\n",
       "<style scoped>\n",
       "    .dataframe tbody tr th:only-of-type {\n",
       "        vertical-align: middle;\n",
       "    }\n",
       "\n",
       "    .dataframe tbody tr th {\n",
       "        vertical-align: top;\n",
       "    }\n",
       "\n",
       "    .dataframe thead th {\n",
       "        text-align: right;\n",
       "    }\n",
       "</style>\n",
       "<table border=\"1\" class=\"dataframe\">\n",
       "  <thead>\n",
       "    <tr style=\"text-align: right;\">\n",
       "      <th>Instance count</th>\n",
       "      <th>10</th>\n",
       "      <th>50</th>\n",
       "      <th>100</th>\n",
       "      <th>500</th>\n",
       "      <th>1000</th>\n",
       "      <th>2000</th>\n",
       "      <th>5000</th>\n",
       "      <th>10000</th>\n",
       "      <th>20000</th>\n",
       "      <th>50000</th>\n",
       "      <th>100000</th>\n",
       "      <th>200000</th>\n",
       "      <th>300000</th>\n",
       "      <th>500000</th>\n",
       "      <th>700000</th>\n",
       "      <th>900000</th>\n",
       "      <th>1000000</th>\n",
       "    </tr>\n",
       "  </thead>\n",
       "  <tbody>\n",
       "    <tr>\n",
       "      <th>bubble sort</th>\n",
       "      <td>0.0</td>\n",
       "      <td>5.0</td>\n",
       "      <td>20.0</td>\n",
       "      <td>455.7</td>\n",
       "      <td>1715.3</td>\n",
       "      <td>6488.9</td>\n",
       "      <td>39322.4</td>\n",
       "      <td>165882.1</td>\n",
       "      <td>819638.9</td>\n",
       "      <td>5881664.0</td>\n",
       "      <td>24323877.8</td>\n",
       "      <td>98908730.4</td>\n",
       "      <td>224152869.1</td>\n",
       "      <td>618152135.0</td>\n",
       "      <td>1.233375e+09</td>\n",
       "      <td>1.986145e+09</td>\n",
       "      <td>2.503074e+09</td>\n",
       "    </tr>\n",
       "    <tr>\n",
       "      <th>insertion sort</th>\n",
       "      <td>0.0</td>\n",
       "      <td>1.0</td>\n",
       "      <td>6.1</td>\n",
       "      <td>133.6</td>\n",
       "      <td>408.9</td>\n",
       "      <td>1503.1</td>\n",
       "      <td>9456.3</td>\n",
       "      <td>36061.1</td>\n",
       "      <td>145044.8</td>\n",
       "      <td>905825.2</td>\n",
       "      <td>3692558.1</td>\n",
       "      <td>14401321.8</td>\n",
       "      <td>32364260.8</td>\n",
       "      <td>90064620.6</td>\n",
       "      <td>1.750287e+08</td>\n",
       "      <td>2.868384e+08</td>\n",
       "      <td>3.534222e+08</td>\n",
       "    </tr>\n",
       "    <tr>\n",
       "      <th>quick sort</th>\n",
       "      <td>0.0</td>\n",
       "      <td>0.7</td>\n",
       "      <td>2.6</td>\n",
       "      <td>18.0</td>\n",
       "      <td>54.9</td>\n",
       "      <td>140.3</td>\n",
       "      <td>396.9</td>\n",
       "      <td>902.1</td>\n",
       "      <td>1834.9</td>\n",
       "      <td>5148.1</td>\n",
       "      <td>9881.5</td>\n",
       "      <td>21326.8</td>\n",
       "      <td>31324.3</td>\n",
       "      <td>53164.3</td>\n",
       "      <td>7.674870e+04</td>\n",
       "      <td>9.947060e+04</td>\n",
       "      <td>1.064591e+05</td>\n",
       "    </tr>\n",
       "  </tbody>\n",
       "</table>\n",
       "</div>"
      ],
      "text/plain": [
       "Instance count  10       50       100      500      1000     2000     5000     \\\n",
       "bubble sort         0.0      5.0     20.0    455.7   1715.3   6488.9  39322.4   \n",
       "insertion sort      0.0      1.0      6.1    133.6    408.9   1503.1   9456.3   \n",
       "quick sort          0.0      0.7      2.6     18.0     54.9    140.3    396.9   \n",
       "\n",
       "Instance count   10000     20000      50000       100000      200000   \\\n",
       "bubble sort     165882.1  819638.9  5881664.0  24323877.8  98908730.4   \n",
       "insertion sort   36061.1  145044.8   905825.2   3692558.1  14401321.8   \n",
       "quick sort         902.1    1834.9     5148.1      9881.5     21326.8   \n",
       "\n",
       "Instance count      300000       500000        700000        900000   \\\n",
       "bubble sort     224152869.1  618152135.0  1.233375e+09  1.986145e+09   \n",
       "insertion sort   32364260.8   90064620.6  1.750287e+08  2.868384e+08   \n",
       "quick sort          31324.3      53164.3  7.674870e+04  9.947060e+04   \n",
       "\n",
       "Instance count       1000000  \n",
       "bubble sort     2.503074e+09  \n",
       "insertion sort  3.534222e+08  \n",
       "quick sort      1.064591e+05  "
      ]
     },
     "execution_count": 9,
     "metadata": {},
     "output_type": "execute_result"
    }
   ],
   "source": [
    "comp_bub_ins_quick = pd.DataFrame()\n",
    "comp_bub_ins_quick[\"bubble sort\"] = sorting_algo_data[\"bubble sort\"]\n",
    "comp_bub_ins_quick[\"insertion sort\"] = sorting_algo_data[\"insertion sort\"]\n",
    "comp_bub_ins_quick[\"quick sort\"] = sorting_algo_data[\"quick sort\"]\n",
    "\n",
    "comp_bub_ins_quick.transpose()"
   ]
  },
  {
   "cell_type": "code",
   "execution_count": 10,
   "id": "30493bd2-97e2-4c44-b3df-85fef2f8f6ee",
   "metadata": {},
   "outputs": [
    {
     "data": {
      "text/plain": [
       "<AxesSubplot:xlabel='Instance count', ylabel='time [microseconds]'>"
      ]
     },
     "execution_count": 10,
     "metadata": {},
     "output_type": "execute_result"
    },
    {
     "data": {
      "image/png": "[encoded data removed]",
      "text/plain": [
       "<Figure size 432x288 with 1 Axes>"
      ]
     },
     "metadata": {
      "needs_background": "light"
     },
     "output_type": "display_data"
    }
   ],
   "source": [
    "comp_bub_ins_quick.plot(style='--o', ylabel=\"time [microseconds]\")"
   ]
  },
  {
   "cell_type": "markdown",
   "id": "ab0be12b-fb0e-4684-9659-7e983a6744f5",
   "metadata": {},
   "source": [
    "### counting sort"
   ]
  },
  {
   "cell_type": "code",
   "execution_count": 11,
   "id": "5ebafa09-326f-4ab4-b6f1-cac842081cdd",
   "metadata": {},
   "outputs": [
    {
     "data": {
      "text/html": [
       "<div>\n",
       "<style scoped>\n",
       "    .dataframe tbody tr th:only-of-type {\n",
       "        vertical-align: middle;\n",
       "    }\n",
       "\n",
       "    .dataframe tbody tr th {\n",
       "        vertical-align: top;\n",
       "    }\n",
       "\n",
       "    .dataframe thead th {\n",
       "        text-align: right;\n",
       "    }\n",
       "</style>\n",
       "<table border=\"1\" class=\"dataframe\">\n",
       "  <thead>\n",
       "    <tr style=\"text-align: right;\">\n",
       "      <th>Instance count</th>\n",
       "      <th>10</th>\n",
       "      <th>50</th>\n",
       "      <th>100</th>\n",
       "      <th>500</th>\n",
       "      <th>1000</th>\n",
       "      <th>2000</th>\n",
       "      <th>5000</th>\n",
       "      <th>10000</th>\n",
       "      <th>20000</th>\n",
       "      <th>50000</th>\n",
       "      <th>100000</th>\n",
       "      <th>200000</th>\n",
       "      <th>300000</th>\n",
       "      <th>500000</th>\n",
       "      <th>700000</th>\n",
       "      <th>900000</th>\n",
       "      <th>1000000</th>\n",
       "    </tr>\n",
       "  </thead>\n",
       "  <tbody>\n",
       "    <tr>\n",
       "      <th>counting sort time execution [microseconds]</th>\n",
       "      <td>1168.3</td>\n",
       "      <td>1432.5</td>\n",
       "      <td>1420.4</td>\n",
       "      <td>1590.0</td>\n",
       "      <td>1654.0</td>\n",
       "      <td>1869.6</td>\n",
       "      <td>1855.2</td>\n",
       "      <td>1767.3</td>\n",
       "      <td>2042.7</td>\n",
       "      <td>2443.5</td>\n",
       "      <td>3285.1</td>\n",
       "      <td>4267.8</td>\n",
       "      <td>5345.9</td>\n",
       "      <td>6997.9</td>\n",
       "      <td>8966.6</td>\n",
       "      <td>10647.6</td>\n",
       "      <td>11039.6</td>\n",
       "    </tr>\n",
       "  </tbody>\n",
       "</table>\n",
       "</div>"
      ],
      "text/plain": [
       "Instance count                               10       50       100      \\\n",
       "counting sort time execution [microseconds]   1168.3   1432.5   1420.4   \n",
       "\n",
       "Instance count                               500      1000     2000     \\\n",
       "counting sort time execution [microseconds]   1590.0   1654.0   1869.6   \n",
       "\n",
       "Instance count                               5000     10000    20000    \\\n",
       "counting sort time execution [microseconds]   1855.2   1767.3   2042.7   \n",
       "\n",
       "Instance count                               50000    100000   200000   \\\n",
       "counting sort time execution [microseconds]   2443.5   3285.1   4267.8   \n",
       "\n",
       "Instance count                               300000   500000   700000   \\\n",
       "counting sort time execution [microseconds]   5345.9   6997.9   8966.6   \n",
       "\n",
       "Instance count                               900000   1000000  \n",
       "counting sort time execution [microseconds]  10647.6  11039.6  "
      ]
     },
     "execution_count": 11,
     "metadata": {},
     "output_type": "execute_result"
    }
   ],
   "source": [
    "sorting_algo_data[\"counting sort\"].transpose()"
   ]
  },
  {
   "cell_type": "code",
   "execution_count": 12,
   "id": "4a3708c4-f278-4d0a-ad0a-f7cb9e7da513",
   "metadata": {},
   "outputs": [
    {
     "data": {
      "text/plain": [
       "<AxesSubplot:xlabel='Instance count'>"
      ]
     },
     "execution_count": 12,
     "metadata": {},
     "output_type": "execute_result"
    },
    {
     "data": {
      "image/png": "[encoded data removed]",
      "text/plain": [
       "<Figure size 432x288 with 1 Axes>"
      ]
     },
     "metadata": {
      "needs_background": "light"
     },
     "output_type": "display_data"
    }
   ],
   "source": [
    "sorting_algo_data[\"counting sort\"].plot(c='m', style='--o')"
   ]
  },
  {
   "cell_type": "markdown",
   "id": "045f5203-34b3-4979-b1fa-eb0f34ba3be0",
   "metadata": {},
   "source": [
    "### heap sort"
   ]
  },
  {
   "cell_type": "code",
   "execution_count": 13,
   "id": "ea5152b6-184b-4d8d-ba65-ea870fca2e89",
   "metadata": {},
   "outputs": [
    {
     "data": {
      "text/html": [
       "<div>\n",
       "<style scoped>\n",
       "    .dataframe tbody tr th:only-of-type {\n",
       "        vertical-align: middle;\n",
       "    }\n",
       "\n",
       "    .dataframe tbody tr th {\n",
       "        vertical-align: top;\n",
       "    }\n",
       "\n",
       "    .dataframe thead th {\n",
       "        text-align: right;\n",
       "    }\n",
       "</style>\n",
       "<table border=\"1\" class=\"dataframe\">\n",
       "  <thead>\n",
       "    <tr style=\"text-align: right;\">\n",
       "      <th>Instance count</th>\n",
       "      <th>10</th>\n",
       "      <th>50</th>\n",
       "      <th>100</th>\n",
       "      <th>500</th>\n",
       "      <th>1000</th>\n",
       "      <th>2000</th>\n",
       "      <th>5000</th>\n",
       "      <th>10000</th>\n",
       "      <th>20000</th>\n",
       "      <th>50000</th>\n",
       "      <th>100000</th>\n",
       "      <th>200000</th>\n",
       "      <th>300000</th>\n",
       "      <th>500000</th>\n",
       "      <th>700000</th>\n",
       "      <th>900000</th>\n",
       "      <th>1000000</th>\n",
       "    </tr>\n",
       "  </thead>\n",
       "  <tbody>\n",
       "    <tr>\n",
       "      <th>heap sort time execution [microseconds]</th>\n",
       "      <td>0.1</td>\n",
       "      <td>2.8</td>\n",
       "      <td>7.8</td>\n",
       "      <td>65.1</td>\n",
       "      <td>153.1</td>\n",
       "      <td>307.4</td>\n",
       "      <td>868.5</td>\n",
       "      <td>1893.1</td>\n",
       "      <td>4058.2</td>\n",
       "      <td>11134.8</td>\n",
       "      <td>23994.2</td>\n",
       "      <td>52235.9</td>\n",
       "      <td>81464.8</td>\n",
       "      <td>146545.9</td>\n",
       "      <td>206417.7</td>\n",
       "      <td>276077.1</td>\n",
       "      <td>312131.7</td>\n",
       "    </tr>\n",
       "  </tbody>\n",
       "</table>\n",
       "</div>"
      ],
      "text/plain": [
       "Instance count                           10       50       100      500      \\\n",
       "heap sort time execution [microseconds]      0.1      2.8      7.8     65.1   \n",
       "\n",
       "Instance count                           1000     2000     5000     10000    \\\n",
       "heap sort time execution [microseconds]    153.1    307.4    868.5   1893.1   \n",
       "\n",
       "Instance count                           20000    50000    100000   200000   \\\n",
       "heap sort time execution [microseconds]   4058.2  11134.8  23994.2  52235.9   \n",
       "\n",
       "Instance count                           300000    500000    700000   \\\n",
       "heap sort time execution [microseconds]  81464.8  146545.9  206417.7   \n",
       "\n",
       "Instance count                            900000    1000000  \n",
       "heap sort time execution [microseconds]  276077.1  312131.7  "
      ]
     },
     "execution_count": 13,
     "metadata": {},
     "output_type": "execute_result"
    }
   ],
   "source": [
    "sorting_algo_data[\"heap sort\"].transpose()"
   ]
  },
  {
   "cell_type": "code",
   "execution_count": 14,
   "id": "ff7a7cbc-2595-4dc1-b3b5-78178a8c5122",
   "metadata": {},
   "outputs": [
    {
     "data": {
      "text/plain": [
       "<AxesSubplot:xlabel='Instance count'>"
      ]
     },
     "execution_count": 14,
     "metadata": {},
     "output_type": "execute_result"
    },
    {
     "data": {
      "image/png": "[encoded data removed]",
      "text/plain": [
       "<Figure size 432x288 with 1 Axes>"
      ]
     },
     "metadata": {
      "needs_background": "light"
     },
     "output_type": "display_data"
    }
   ],
   "source": [
    "sorting_algo_data[\"heap sort\"].plot(c='y', style='--o')"
   ]
  },
  {
   "cell_type": "markdown",
   "id": "8b9b4497-207e-4a47-b643-78be5e03cfa0",
   "metadata": {},
   "source": [
    "## Comparison of counting and heap sort"
   ]
  },
  {
   "cell_type": "code",
   "execution_count": 15,
   "id": "c82f4d8e-e4f5-45dd-8eee-6bc2c4b1447f",
   "metadata": {},
   "outputs": [
    {
     "data": {
      "text/html": [
       "<div>\n",
       "<style scoped>\n",
       "    .dataframe tbody tr th:only-of-type {\n",
       "        vertical-align: middle;\n",
       "    }\n",
       "\n",
       "    .dataframe tbody tr th {\n",
       "        vertical-align: top;\n",
       "    }\n",
       "\n",
       "    .dataframe thead th {\n",
       "        text-align: right;\n",
       "    }\n",
       "</style>\n",
       "<table border=\"1\" class=\"dataframe\">\n",
       "  <thead>\n",
       "    <tr style=\"text-align: right;\">\n",
       "      <th>Instance count</th>\n",
       "      <th>10</th>\n",
       "      <th>50</th>\n",
       "      <th>100</th>\n",
       "      <th>500</th>\n",
       "      <th>1000</th>\n",
       "      <th>2000</th>\n",
       "      <th>5000</th>\n",
       "      <th>10000</th>\n",
       "      <th>20000</th>\n",
       "      <th>50000</th>\n",
       "      <th>100000</th>\n",
       "      <th>200000</th>\n",
       "      <th>300000</th>\n",
       "      <th>500000</th>\n",
       "      <th>700000</th>\n",
       "      <th>900000</th>\n",
       "      <th>1000000</th>\n",
       "    </tr>\n",
       "  </thead>\n",
       "  <tbody>\n",
       "    <tr>\n",
       "      <th>counting sort</th>\n",
       "      <td>1168.3</td>\n",
       "      <td>1432.5</td>\n",
       "      <td>1420.4</td>\n",
       "      <td>1590.0</td>\n",
       "      <td>1654.0</td>\n",
       "      <td>1869.6</td>\n",
       "      <td>1855.2</td>\n",
       "      <td>1767.3</td>\n",
       "      <td>2042.7</td>\n",
       "      <td>2443.5</td>\n",
       "      <td>3285.1</td>\n",
       "      <td>4267.8</td>\n",
       "      <td>5345.9</td>\n",
       "      <td>6997.9</td>\n",
       "      <td>8966.6</td>\n",
       "      <td>10647.6</td>\n",
       "      <td>11039.6</td>\n",
       "    </tr>\n",
       "    <tr>\n",
       "      <th>heap sort</th>\n",
       "      <td>0.1</td>\n",
       "      <td>2.8</td>\n",
       "      <td>7.8</td>\n",
       "      <td>65.1</td>\n",
       "      <td>153.1</td>\n",
       "      <td>307.4</td>\n",
       "      <td>868.5</td>\n",
       "      <td>1893.1</td>\n",
       "      <td>4058.2</td>\n",
       "      <td>11134.8</td>\n",
       "      <td>23994.2</td>\n",
       "      <td>52235.9</td>\n",
       "      <td>81464.8</td>\n",
       "      <td>146545.9</td>\n",
       "      <td>206417.7</td>\n",
       "      <td>276077.1</td>\n",
       "      <td>312131.7</td>\n",
       "    </tr>\n",
       "  </tbody>\n",
       "</table>\n",
       "</div>"
      ],
      "text/plain": [
       "Instance count  10       50       100      500      1000     2000     5000     \\\n",
       "counting sort    1168.3   1432.5   1420.4   1590.0   1654.0   1869.6   1855.2   \n",
       "heap sort           0.1      2.8      7.8     65.1    153.1    307.4    868.5   \n",
       "\n",
       "Instance count  10000    20000    50000    100000   200000   300000   \\\n",
       "counting sort    1767.3   2042.7   2443.5   3285.1   4267.8   5345.9   \n",
       "heap sort        1893.1   4058.2  11134.8  23994.2  52235.9  81464.8   \n",
       "\n",
       "Instance count   500000    700000    900000    1000000  \n",
       "counting sort     6997.9    8966.6   10647.6   11039.6  \n",
       "heap sort       146545.9  206417.7  276077.1  312131.7  "
      ]
     },
     "execution_count": 15,
     "metadata": {},
     "output_type": "execute_result"
    }
   ],
   "source": [
    "comp_counting_heap = pd.DataFrame()\n",
    "comp_counting_heap[\"counting sort\"] = sorting_algo_data[\"counting sort\"]\n",
    "comp_counting_heap[\"heap sort\"] = sorting_algo_data[\"heap sort\"]\n",
    "\n",
    "comp_counting_heap.transpose()"
   ]
  },
  {
   "cell_type": "code",
   "execution_count": 17,
   "id": "d67dded8-4f98-4172-bf9d-17b3b16c8852",
   "metadata": {},
   "outputs": [
    {
     "data": {
      "text/plain": [
       "<AxesSubplot:xlabel='Instance count', ylabel='time execution [microseconds]'>"
      ]
     },
     "execution_count": 17,
     "metadata": {},
     "output_type": "execute_result"
    },
    {
     "data": {
      "image/png": "[encoded data removed]",
      "text/plain": [
       "<Figure size 432x288 with 1 Axes>"
      ]
     },
     "metadata": {
      "needs_background": "light"
     },
     "output_type": "display_data"
    }
   ],
   "source": [
    "comp_counting_heap.plot(style='--o', ylabel=\"time execution [microseconds]\")"
   ]
  }
 ],
 "metadata": {
  "kernelspec": {
   "display_name": "Python 3 (ipykernel)",
   "language": "python",
   "name": "python3"
  },
  "language_info": {
   "codemirror_mode": {
    "name": "ipython",
    "version": 3
   },
   "file_extension": ".py",
   "mimetype": "text/x-python",
   "name": "python",
   "nbconvert_exporter": "python",
   "pygments_lexer": "ipython3",
   "version": "3.10.2"
  }
 },
 "nbformat": 4,
 "nbformat_minor": 5
}
