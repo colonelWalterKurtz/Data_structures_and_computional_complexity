{
 "cells": [
  {
   "cell_type": "markdown",
   "id": "1015e0e5-ebad-4345-9b24-bc4bad27bb64",
   "metadata": {},
   "source": [
    "# Time complexity of Prim's Algorithm: Minimum Spanning Tree\n",
    "\n",
    "The complexity of the algorithm depends on the implementation of the queue. However, inside the algorithm we go through all $n$ elements of the queue and update $n$ neighbors each time. This means that the algorithm itself has a complexity of $n^2$.\n",
    "\n",
    "## Measurement tab\n",
    "\n",
    "## Chart"
   ]
  }
 ],
 "metadata": {
  "kernelspec": {
   "display_name": "Python 3 (ipykernel)",
   "language": "python",
   "name": "python3"
  },
  "language_info": {
   "codemirror_mode": {
    "name": "ipython",
    "version": 3
   },
   "file_extension": ".py",
   "mimetype": "text/x-python",
   "name": "python",
   "nbconvert_exporter": "python",
   "pygments_lexer": "ipython3",
   "version": "3.10.2"
  }
 },
 "nbformat": 4,
 "nbformat_minor": 5
}
