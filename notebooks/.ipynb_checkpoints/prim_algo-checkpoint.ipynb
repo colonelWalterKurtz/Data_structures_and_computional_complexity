{
 "cells": [
  {
   "cell_type": "markdown",
   "id": "1015e0e5-ebad-4345-9b24-bc4bad27bb64",
   "metadata": {},
   "source": [
    "# Time complexity of Prim's Algorithm: Minimum Spanning Tree\n",
    "\n",
    "## Measurement tab\n",
    "\n"
   ]
  },
  {
   "cell_type": "code",
   "execution_count": 2,
   "id": "98510794-91ab-4577-8e06-c30c91e87431",
   "metadata": {},
   "outputs": [
    {
     "data": {
      "text/html": [
       "<div>\n",
       "<style scoped>\n",
       "    .dataframe tbody tr th:only-of-type {\n",
       "        vertical-align: middle;\n",
       "    }\n",
       "\n",
       "    .dataframe tbody tr th {\n",
       "        vertical-align: top;\n",
       "    }\n",
       "\n",
       "    .dataframe thead th {\n",
       "        text-align: right;\n",
       "    }\n",
       "</style>\n",
       "<table border=\"1\" class=\"dataframe\">\n",
       "  <thead>\n",
       "    <tr style=\"text-align: right;\">\n",
       "      <th>Instance count</th>\n",
       "      <th>10</th>\n",
       "      <th>20</th>\n",
       "      <th>50</th>\n",
       "      <th>100</th>\n",
       "      <th>200</th>\n",
       "      <th>300</th>\n",
       "      <th>400</th>\n",
       "      <th>500</th>\n",
       "      <th>600</th>\n",
       "      <th>700</th>\n",
       "      <th>800</th>\n",
       "      <th>900</th>\n",
       "      <th>1000</th>\n",
       "    </tr>\n",
       "  </thead>\n",
       "  <tbody>\n",
       "    <tr>\n",
       "      <th>time execution [micorseconds]</th>\n",
       "      <td>2.2</td>\n",
       "      <td>8.2</td>\n",
       "      <td>19.6</td>\n",
       "      <td>87.1</td>\n",
       "      <td>287.8</td>\n",
       "      <td>624.8</td>\n",
       "      <td>1288.5</td>\n",
       "      <td>1574.0</td>\n",
       "      <td>2191.1</td>\n",
       "      <td>2950.1</td>\n",
       "      <td>3843.3</td>\n",
       "      <td>4909.1</td>\n",
       "      <td>5838.9</td>\n",
       "    </tr>\n",
       "  </tbody>\n",
       "</table>\n",
       "</div>"
      ],
      "text/plain": [
       "Instance count                 10    20    50    100    200    300     400   \\\n",
       "time execution [micorseconds]   2.2   8.2  19.6  87.1  287.8  624.8  1288.5   \n",
       "\n",
       "Instance count                   500     600     700     800     900     1000  \n",
       "time execution [micorseconds]  1574.0  2191.1  2950.1  3843.3  4909.1  5838.9  "
      ]
     },
     "execution_count": 2,
     "metadata": {},
     "output_type": "execute_result"
    }
   ],
   "source": [
    "import pandas as pd\n",
    "import matplotlib.pyplot as plt\n",
    "import numpy as np\n",
    "\n",
    "PATH = \"./measurements/mst_prim/prim_algorithm.csv\"\n",
    "\n",
    "# read the data\n",
    "file = pd.read_csv(PATH)\n",
    "\n",
    "## prepare the data\n",
    "# calculate mean from every row\n",
    "means = file.iloc[:, 1:11].mean(axis=1)\n",
    "\n",
    "# take intance count\n",
    "instances = file[\"Rozmiary macierzy\"].values\n",
    "\n",
    "# create data frame\n",
    "df = pd.DataFrame({\"Instance count\":  instances, \"time execution [micorseconds]\": means})\n",
    "df = df.set_index(\"Instance count\")\n",
    "df.transpose()\n"
   ]
  },
  {
   "cell_type": "markdown",
   "id": "8b39586b-cb6e-4a5a-b5d6-d61d611d53c5",
   "metadata": {},
   "source": [
    "## Chart"
   ]
  },
  {
   "cell_type": "code",
   "execution_count": 3,
   "id": "db4a80da-3cf0-48d2-9fb6-ebbef1e75f2e",
   "metadata": {},
   "outputs": [
    {
     "data": {
      "text/plain": [
       "<AxesSubplot:xlabel='Instance count'>"
      ]
     },
     "execution_count": 3,
     "metadata": {},
     "output_type": "execute_result"
    },
    {
     "data": {
      "image/png": "[encoded data removed]",
      "text/plain": [
       "<Figure size 432x288 with 1 Axes>"
      ]
     },
     "metadata": {
      "needs_background": "light"
     },
     "output_type": "display_data"
    }
   ],
   "source": [
    "df.plot(style='--o')"
   ]
  },
  {
   "cell_type": "markdown",
   "id": "214fc8ec-d7dc-4659-b51c-a8d87968d94b",
   "metadata": {},
   "source": [
    "There is one visible distortion at x=400, this is due to a coarse error in the measurements "
   ]
  }
 ],
 "metadata": {
  "kernelspec": {
   "display_name": "Python 3 (ipykernel)",
   "language": "python",
   "name": "python3"
  },
  "language_info": {
   "codemirror_mode": {
    "name": "ipython",
    "version": 3
   },
   "file_extension": ".py",
   "mimetype": "text/x-python",
   "name": "python",
   "nbconvert_exporter": "python",
   "pygments_lexer": "ipython3",
   "version": "3.10.4"
  }
 },
 "nbformat": 4,
 "nbformat_minor": 5
}
